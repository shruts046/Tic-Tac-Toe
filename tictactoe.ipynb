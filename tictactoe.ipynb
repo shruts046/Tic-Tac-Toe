{
 "cells": [
  {
   "cell_type": "code",
   "execution_count": 2,
   "metadata": {},
   "outputs": [
    {
     "data": {
      "text/plain": [
       "['1', '2', '3']"
      ]
     },
     "metadata": {},
     "output_type": "display_data"
    },
    {
     "data": {
      "text/plain": [
       "['4', '5', '6']"
      ]
     },
     "metadata": {},
     "output_type": "display_data"
    },
    {
     "data": {
      "text/plain": [
       "['7', '8', '9']"
      ]
     },
     "metadata": {},
     "output_type": "display_data"
    }
   ],
   "source": [
    "row1=['1','2','3']\n",
    "row2=['4','5','6']\n",
    "row3=['7','8','9']\n",
    "display(row1,row2,row3)"
   ]
  },
  {
   "cell_type": "code",
   "execution_count": 3,
   "metadata": {},
   "outputs": [],
   "source": [
    "position_index=input(\"Enter the number where you would like to play your move: \")"
   ]
  },
  {
   "cell_type": "code",
   "execution_count": 4,
   "metadata": {},
   "outputs": [],
   "source": [
    "new_value=input(\"Please play your next move: \")"
   ]
  },
  {
   "cell_type": "code",
   "execution_count": 5,
   "metadata": {},
   "outputs": [],
   "source": [
    "positionIndex = int(position_index)\n",
    "    \n",
    "if positionIndex <= 3:\n",
    "    row_no = row1\n",
    "elif 4 <= positionIndex <= 6:\n",
    "    row_no = row2\n",
    "else:\n",
    "    row_no = row3"
   ]
  },
  {
   "cell_type": "code",
   "execution_count": 6,
   "metadata": {},
   "outputs": [
    {
     "data": {
      "text/plain": [
       "['1', '2', '3']"
      ]
     },
     "execution_count": 6,
     "metadata": {},
     "output_type": "execute_result"
    }
   ],
   "source": [
    "row_no"
   ]
  },
  {
   "cell_type": "code",
   "execution_count": 9,
   "metadata": {},
   "outputs": [],
   "source": [
    "row_no[--positionIndex]=new_value"
   ]
  },
  {
   "cell_type": "code",
   "execution_count": 10,
   "metadata": {},
   "outputs": [
    {
     "data": {
      "text/plain": [
       "['1', 'X', '3']"
      ]
     },
     "metadata": {},
     "output_type": "display_data"
    },
    {
     "data": {
      "text/plain": [
       "['4', '5', '6']"
      ]
     },
     "metadata": {},
     "output_type": "display_data"
    },
    {
     "data": {
      "text/plain": [
       "['7', '8', '9']"
      ]
     },
     "metadata": {},
     "output_type": "display_data"
    }
   ],
   "source": [
    "display(row1,row2,row3)"
   ]
  },
  {
   "cell_type": "code",
   "execution_count": 11,
   "metadata": {},
   "outputs": [],
   "source": [
    "position_index=input(\"Enter the number where you would like to play your move: \")"
   ]
  },
  {
   "cell_type": "code",
   "execution_count": 12,
   "metadata": {},
   "outputs": [],
   "source": [
    "new_value=input(\"Please play your next move: \")"
   ]
  },
  {
   "cell_type": "code",
   "execution_count": 13,
   "metadata": {},
   "outputs": [
    {
     "data": {
      "text/plain": [
       "['1', 'X', '3']"
      ]
     },
     "metadata": {},
     "output_type": "display_data"
    },
    {
     "data": {
      "text/plain": [
       "['4', '5', '6']"
      ]
     },
     "metadata": {},
     "output_type": "display_data"
    },
    {
     "data": {
      "text/plain": [
       "['7', '8', '9']"
      ]
     },
     "metadata": {},
     "output_type": "display_data"
    }
   ],
   "source": [
    "display(row1,row2,row3)"
   ]
  },
  {
   "cell_type": "code",
   "execution_count": 1,
   "metadata": {},
   "outputs": [
    {
     "name": "stdout",
     "output_type": "stream",
     "text": [
      "['X', '2', '3']\n",
      "['4', '5', '6']\n",
      "['7', '8', '9']\n",
      "\n",
      "\n"
     ]
    },
    {
     "ename": "ValueError",
     "evalue": "invalid literal for int() with base 10: '@'",
     "output_type": "error",
     "traceback": [
      "\u001b[1;31m---------------------------------------------------------------------------\u001b[0m",
      "\u001b[1;31mValueError\u001b[0m                                Traceback (most recent call last)",
      "Cell \u001b[1;32mIn[1], line 34\u001b[0m\n\u001b[0;32m     31\u001b[0m \u001b[39mwhile\u001b[39;00m a\u001b[39m<\u001b[39m\u001b[39m10\u001b[39m:\n\u001b[0;32m     32\u001b[0m     position_index\u001b[39m=\u001b[39m\u001b[39minput\u001b[39m(\u001b[39m\"\u001b[39m\u001b[39mEnter the position number where you would like to play your move: \u001b[39m\u001b[39m\"\u001b[39m)\n\u001b[1;32m---> 34\u001b[0m     positionIndex \u001b[39m=\u001b[39m \u001b[39mint\u001b[39;49m(position_index)\n\u001b[0;32m     36\u001b[0m     new_value\u001b[39m=\u001b[39m\u001b[39minput\u001b[39m(\u001b[39m\"\u001b[39m\u001b[39mPlease play your move X | O : \u001b[39m\u001b[39m\"\u001b[39m)\n\u001b[0;32m     38\u001b[0m     \u001b[39mif\u001b[39;00m \u001b[39m1\u001b[39m\u001b[39m<\u001b[39m\u001b[39m=\u001b[39mpositionIndex \u001b[39m<\u001b[39m\u001b[39m=\u001b[39m \u001b[39m3\u001b[39m:\n",
      "\u001b[1;31mValueError\u001b[0m: invalid literal for int() with base 10: '@'"
     ]
    }
   ],
   "source": [
    "row1=['1','2','3']\n",
    "row2=['4','5','6']\n",
    "row3=['7','8','9']\n",
    "a=1\n",
    "\n",
    "def display(row1, row2, row3):\n",
    "    print(row1)\n",
    "    print(row2)\n",
    "    print(row3)\n",
    "    print('\\n')\n",
    "\n",
    "def win():\n",
    "    if row1[0]==row1[1]==row1[2]:\n",
    "        return True\n",
    "    elif row2[0]==row2[1]==row2[2]:\n",
    "        return True\n",
    "    elif row3[0]==row3[1]==row3[2]:\n",
    "        return True\n",
    "    elif row1[0]==row2[1]==row3[2]:\n",
    "        return True\n",
    "    elif row1[2]==row2[1]==row3[0]:\n",
    "        return True\n",
    "    elif row1[0]==row2[0]==row3[0]:\n",
    "        return True\n",
    "    elif row1[1]==row2[1]==row3[1]:\n",
    "        return True\n",
    "    elif row1[2]==row2[2]==row3[2]:\n",
    "        return True\n",
    "    return False\n",
    "\n",
    "while a<10:\n",
    "    position_index=input(\"Enter the position number where you would like to play your move: \")\n",
    "  \n",
    "    positionIndex = int(position_index)\n",
    "    \n",
    "    new_value=input(\"Please play your move X | O : \")\n",
    "\n",
    "    if 1<=positionIndex <= 3:\n",
    "        row_no = row1\n",
    "        if positionIndex==1:\n",
    "            index=0\n",
    "        elif positionIndex==2:\n",
    "            index=1\n",
    "        else:\n",
    "            index=2\n",
    "\n",
    "    elif 4 <= positionIndex <= 6:\n",
    "        row_no = row2\n",
    "        if positionIndex==4:\n",
    "            index=0\n",
    "        elif positionIndex==5:\n",
    "            index=1\n",
    "        else:\n",
    "            index=2\n",
    "\n",
    "    elif 7<= positionIndex<=9:\n",
    "        row_no = row3\n",
    "        if positionIndex==7:\n",
    "            index=0\n",
    "        elif positionIndex==8:\n",
    "            index=1\n",
    "        else:\n",
    "            index=2\n",
    "    else:\n",
    "        print('Invalid Position! The position range is 1-9')\n",
    "        #continue\n",
    "\n",
    "    row_no[index]=new_value\n",
    "    display(row1,row2,row3)\n",
    "\n",
    "    if win():\n",
    "        print(\"Player wins!\")\n",
    "        break\n",
    "    if not win() and a==9:\n",
    "        print(\"Its a draw\")\n",
    "    a+=1\n",
    "   "
   ]
  },
  {
   "cell_type": "code",
   "execution_count": null,
   "metadata": {},
   "outputs": [],
   "source": []
  }
 ],
 "metadata": {
  "kernelspec": {
   "display_name": "Python 3",
   "language": "python",
   "name": "python3"
  },
  "language_info": {
   "codemirror_mode": {
    "name": "ipython",
    "version": 3
   },
   "file_extension": ".py",
   "mimetype": "text/x-python",
   "name": "python",
   "nbconvert_exporter": "python",
   "pygments_lexer": "ipython3",
   "version": "3.9.6"
  },
  "orig_nbformat": 4
 },
 "nbformat": 4,
 "nbformat_minor": 2
}
