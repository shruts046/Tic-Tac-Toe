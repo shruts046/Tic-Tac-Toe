{
 "cells": [
  {
   "cell_type": "code",
   "execution_count": 13,
   "metadata": {},
   "outputs": [
    {
     "name": "stdout",
     "output_type": "stream",
     "text": [
      "['1', '2', '3']\n",
      "['4', '5', '6']\n",
      "['7', '8', '9']\n",
      "\n",
      "\n"
     ]
    }
   ],
   "source": [
    "row1=['1','2','3']\n",
    "row2=['4','5','6']\n",
    "row3=['7','8','9']\n",
    "display(row1,row2,row3)"
   ]
  },
  {
   "cell_type": "code",
   "execution_count": 14,
   "metadata": {},
   "outputs": [],
   "source": [
    "position_index=input(\"Enter the number where you would like to play your move: \")"
   ]
  },
  {
   "cell_type": "code",
   "execution_count": 15,
   "metadata": {},
   "outputs": [],
   "source": [
    "new_value=input(\"Please play your next move: \")"
   ]
  },
  {
   "cell_type": "code",
   "execution_count": 16,
   "metadata": {},
   "outputs": [],
   "source": [
    "positionIndex = int(position_index)\n",
    "    \n",
    "if positionIndex <= 3:\n",
    "    row_no = row1\n",
    "elif 4 <= positionIndex <= 6:\n",
    "    row_no = row2\n",
    "else:\n",
    "    row_no = row3"
   ]
  },
  {
   "cell_type": "code",
   "execution_count": 17,
   "metadata": {},
   "outputs": [
    {
     "data": {
      "text/plain": [
       "['1', '2', '3']"
      ]
     },
     "execution_count": 17,
     "metadata": {},
     "output_type": "execute_result"
    }
   ],
   "source": [
    "row_no"
   ]
  },
  {
   "cell_type": "code",
   "execution_count": 18,
   "metadata": {},
   "outputs": [],
   "source": [
    "row_no[--positionIndex]=new_value"
   ]
  },
  {
   "cell_type": "code",
   "execution_count": 19,
   "metadata": {},
   "outputs": [
    {
     "name": "stdout",
     "output_type": "stream",
     "text": [
      "['1', 'X', '3']\n",
      "['4', '5', '6']\n",
      "['7', '8', '9']\n",
      "\n",
      "\n"
     ]
    }
   ],
   "source": [
    "display(row1,row2,row3)"
   ]
  },
  {
   "cell_type": "code",
   "execution_count": 20,
   "metadata": {},
   "outputs": [],
   "source": [
    "position_index=input(\"Enter the number where you would like to play your move: \")"
   ]
  },
  {
   "cell_type": "code",
   "execution_count": 21,
   "metadata": {},
   "outputs": [],
   "source": [
    "new_value=input(\"Please play your next move: \")"
   ]
  },
  {
   "cell_type": "code",
   "execution_count": 22,
   "metadata": {},
   "outputs": [
    {
     "name": "stdout",
     "output_type": "stream",
     "text": [
      "['1', 'X', '3']\n",
      "['4', '5', '6']\n",
      "['7', '8', '9']\n",
      "\n",
      "\n"
     ]
    }
   ],
   "source": [
    "display(row1,row2,row3)"
   ]
  },
  {
   "cell_type": "code",
   "execution_count": 23,
   "metadata": {},
   "outputs": [
    {
     "name": "stdout",
     "output_type": "stream",
     "text": [
      "['1', '2', 'X']\n",
      "['4', '5', '6']\n",
      "['7', '8', '9']\n",
      "\n",
      "\n",
      "['1', '2', 'X']\n",
      "['O', '5', '6']\n",
      "['7', '8', '9']\n",
      "\n",
      "\n",
      "['1', '2', 'X']\n",
      "['O', 'X', '6']\n",
      "['7', '8', '9']\n",
      "\n",
      "\n",
      "['1', '2', 'X']\n",
      "['O', 'X', 'O']\n",
      "['7', '8', '9']\n",
      "\n",
      "\n",
      "['1', '2', 'X']\n",
      "['O', 'X', 'O']\n",
      "['X', '8', '9']\n",
      "\n",
      "\n",
      "Player wins!\n"
     ]
    }
   ],
   "source": [
    "row1=['1','2','3']\n",
    "row2=['4','5','6']\n",
    "row3=['7','8','9']\n",
    "a=1\n",
    "\n",
    "def display(row1, row2, row3):\n",
    "    print(row1)\n",
    "    print(row2)\n",
    "    print(row3)\n",
    "    print('\\n')\n",
    "\n",
    "def win():\n",
    "    if row1[0]==row1[1]==row1[2]:\n",
    "        return True\n",
    "    elif row2[0]==row2[1]==row2[2]:\n",
    "        return True\n",
    "    elif row3[0]==row3[1]==row3[2]:\n",
    "        return True\n",
    "    elif row1[0]==row2[1]==row3[2]:\n",
    "        return True\n",
    "    elif row1[2]==row2[1]==row3[0]:\n",
    "        return True\n",
    "    elif row1[0]==row2[0]==row3[0]:\n",
    "        return True\n",
    "    elif row1[1]==row2[1]==row3[1]:\n",
    "        return True\n",
    "    elif row1[2]==row2[2]==row3[2]:\n",
    "        return True\n",
    "    return False\n",
    "\n",
    "while a<10:\n",
    "    position_index=input(\"Enter the position number where you would like to play your move: \")\n",
    "  \n",
    "    positionIndex = int(position_index)\n",
    "    \n",
    "    new_value=input(\"Please play your move X | O : \")\n",
    "\n",
    "    if 1<=positionIndex <= 3:\n",
    "        row_no = row1\n",
    "        if positionIndex==1:\n",
    "            index=0\n",
    "        elif positionIndex==2:\n",
    "            index=1\n",
    "        else:\n",
    "            index=2\n",
    "\n",
    "    elif 4 <= positionIndex <= 6:\n",
    "        row_no = row2\n",
    "        if positionIndex==4:\n",
    "            index=0\n",
    "        elif positionIndex==5:\n",
    "            index=1\n",
    "        else:\n",
    "            index=2\n",
    "\n",
    "    elif 7<= positionIndex<=9:\n",
    "        row_no = row3\n",
    "        if positionIndex==7:\n",
    "            index=0\n",
    "        elif positionIndex==8:\n",
    "            index=1\n",
    "        else:\n",
    "            index=2\n",
    "    else:\n",
    "        print('Invalid Position! The position range is 1-9')\n",
    "        #continue\n",
    "\n",
    "    row_no[index]=new_value\n",
    "    display(row1,row2,row3)\n",
    "\n",
    "    if win():\n",
    "        print(\"Player wins!\")\n",
    "        break\n",
    "    if not win() and a==9:\n",
    "        print(\"Its a draw\")\n",
    "    a+=1\n",
    "   "
   ]
  },
  {
   "cell_type": "code",
   "execution_count": null,
   "metadata": {},
   "outputs": [],
   "source": []
  }
 ],
 "metadata": {
  "kernelspec": {
   "display_name": "Python 3",
   "language": "python",
   "name": "python3"
  },
  "language_info": {
   "codemirror_mode": {
    "name": "ipython",
    "version": 3
   },
   "file_extension": ".py",
   "mimetype": "text/x-python",
   "name": "python",
   "nbconvert_exporter": "python",
   "pygments_lexer": "ipython3",
   "version": "3.9.6"
  },
  "orig_nbformat": 4
 },
 "nbformat": 4,
 "nbformat_minor": 2
}
